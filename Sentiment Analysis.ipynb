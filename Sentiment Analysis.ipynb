{
 "cells": [
  {
   "cell_type": "code",
   "execution_count": 2,
   "id": "a2b71043-c277-47a5-86c7-1e75124db331",
   "metadata": {},
   "outputs": [
    {
     "name": "stdout",
     "output_type": "stream",
     "text": [
      "Collecting textblob\n",
      "  Downloading textblob-0.19.0-py3-none-any.whl.metadata (4.4 kB)\n",
      "Requirement already satisfied: nltk>=3.9 in c:\\users\\keshav\\anaconda3\\lib\\site-packages (from textblob) (3.9.1)\n",
      "Requirement already satisfied: click in c:\\users\\keshav\\anaconda3\\lib\\site-packages (from nltk>=3.9->textblob) (8.1.7)\n",
      "Requirement already satisfied: joblib in c:\\users\\keshav\\anaconda3\\lib\\site-packages (from nltk>=3.9->textblob) (1.4.2)\n",
      "Requirement already satisfied: regex>=2021.8.3 in c:\\users\\keshav\\anaconda3\\lib\\site-packages (from nltk>=3.9->textblob) (2024.9.11)\n",
      "Requirement already satisfied: tqdm in c:\\users\\keshav\\anaconda3\\lib\\site-packages (from nltk>=3.9->textblob) (4.66.5)\n",
      "Requirement already satisfied: colorama in c:\\users\\keshav\\anaconda3\\lib\\site-packages (from click->nltk>=3.9->textblob) (0.4.6)\n",
      "Downloading textblob-0.19.0-py3-none-any.whl (624 kB)\n",
      "   ---------------------------------------- 0.0/624.3 kB ? eta -:--:--\n",
      "   ---------------------------------------- 624.3/624.3 kB 7.7 MB/s eta 0:00:00\n",
      "Installing collected packages: textblob\n",
      "Successfully installed textblob-0.19.0\n"
     ]
    }
   ],
   "source": [
    "!pip install textblob"
   ]
  },
  {
   "cell_type": "code",
   "execution_count": 1,
   "id": "e0173513-e36b-41c0-a5bf-18b91f9ae6fe",
   "metadata": {},
   "outputs": [],
   "source": [
    "# Load Important Libraries\n",
    "import numpy as np\n",
    "import pandas as pd\n",
    "import re \n",
    "from textblob import TextBlob"
   ]
  },
  {
   "cell_type": "code",
   "execution_count": null,
   "id": "16fe0c68-40ab-4952-9d00-3fcfb134d68c",
   "metadata": {},
   "outputs": [],
   "source": [
    "# TextBlob-This library is used in NLP for statement analysis, part of speech tagging, transalation and many more tasks."
   ]
  },
  {
   "cell_type": "code",
   "execution_count": 2,
   "id": "f7d081db-7606-4fc4-9d5c-16b3203fd839",
   "metadata": {},
   "outputs": [],
   "source": [
    "data=pd.read_csv(r\"C:\\Users\\keshav\\OneDrive\\Desktop\\Recorded Lectures Video\\AI Files & REcordings\\snapdeal_tweets.csv\")"
   ]
  },
  {
   "cell_type": "code",
   "execution_count": 3,
   "id": "4660e750-74ee-4385-9c06-74f015cc0970",
   "metadata": {},
   "outputs": [
    {
     "data": {
      "text/html": [
       "<div>\n",
       "<style scoped>\n",
       "    .dataframe tbody tr th:only-of-type {\n",
       "        vertical-align: middle;\n",
       "    }\n",
       "\n",
       "    .dataframe tbody tr th {\n",
       "        vertical-align: top;\n",
       "    }\n",
       "\n",
       "    .dataframe thead th {\n",
       "        text-align: right;\n",
       "    }\n",
       "</style>\n",
       "<table border=\"1\" class=\"dataframe\">\n",
       "  <thead>\n",
       "    <tr style=\"text-align: right;\">\n",
       "      <th></th>\n",
       "      <th>Unnamed: 0</th>\n",
       "      <th>snapdeal_tweets</th>\n",
       "    </tr>\n",
       "  </thead>\n",
       "  <tbody>\n",
       "    <tr>\n",
       "      <th>0</th>\n",
       "      <td>0</td>\n",
       "      <td>Heartbroken to share that our colleague of 9 y...</td>\n",
       "    </tr>\n",
       "    <tr>\n",
       "      <th>1</th>\n",
       "      <td>1</td>\n",
       "      <td>We have waived shipping charges on all product...</td>\n",
       "    </tr>\n",
       "    <tr>\n",
       "      <th>2</th>\n",
       "      <td>2</td>\n",
       "      <td>@HarjotPal4 Getting this checked with the conc...</td>\n",
       "    </tr>\n",
       "    <tr>\n",
       "      <th>3</th>\n",
       "      <td>3</td>\n",
       "      <td>@BasavarajKandri Hi! Please elaborate on what ...</td>\n",
       "    </tr>\n",
       "    <tr>\n",
       "      <th>4</th>\n",
       "      <td>4</td>\n",
       "      <td>@Snapdeal_Help  I am basavaraj kandri. Please ...</td>\n",
       "    </tr>\n",
       "  </tbody>\n",
       "</table>\n",
       "</div>"
      ],
      "text/plain": [
       "   Unnamed: 0                                    snapdeal_tweets\n",
       "0           0  Heartbroken to share that our colleague of 9 y...\n",
       "1           1  We have waived shipping charges on all product...\n",
       "2           2  @HarjotPal4 Getting this checked with the conc...\n",
       "3           3  @BasavarajKandri Hi! Please elaborate on what ...\n",
       "4           4  @Snapdeal_Help  I am basavaraj kandri. Please ..."
      ]
     },
     "execution_count": 3,
     "metadata": {},
     "output_type": "execute_result"
    }
   ],
   "source": [
    "data.head()"
   ]
  },
  {
   "cell_type": "code",
   "execution_count": 4,
   "id": "a68ad9a1-39a2-4192-8466-183b4a746167",
   "metadata": {},
   "outputs": [
    {
     "data": {
      "text/plain": [
       "'Owner of @snapdeal lost his aunt due to shortage of oxygen. Condolences.\\n\\nWhen people with resources are affected t… https://t.co/D7ZI49ayqL'"
      ]
     },
     "execution_count": 4,
     "metadata": {},
     "output_type": "execute_result"
    }
   ],
   "source": [
    "data[\"snapdeal_tweets\"][20]"
   ]
  },
  {
   "cell_type": "code",
   "execution_count": 5,
   "id": "2364c81f-58a7-4ce3-b9c8-416cb1dd8653",
   "metadata": {},
   "outputs": [
    {
     "name": "stderr",
     "output_type": "stream",
     "text": [
      "<>:3: SyntaxWarning: invalid escape sequence '\\S'\n",
      "<>:4: SyntaxWarning: invalid escape sequence '\\w'\n",
      "<>:5: SyntaxWarning: invalid escape sequence '\\w'\n",
      "<>:3: SyntaxWarning: invalid escape sequence '\\S'\n",
      "<>:4: SyntaxWarning: invalid escape sequence '\\w'\n",
      "<>:5: SyntaxWarning: invalid escape sequence '\\w'\n",
      "C:\\Users\\keshav\\AppData\\Local\\Temp\\ipykernel_22696\\2603305911.py:3: SyntaxWarning: invalid escape sequence '\\S'\n",
      "  class_words=re.sub(\"http\\S+\",\" \",text)\n",
      "C:\\Users\\keshav\\AppData\\Local\\Temp\\ipykernel_22696\\2603305911.py:4: SyntaxWarning: invalid escape sequence '\\w'\n",
      "  class_words=re.sub(\"#[\\w]*\",\" \",class_words)\n",
      "C:\\Users\\keshav\\AppData\\Local\\Temp\\ipykernel_22696\\2603305911.py:5: SyntaxWarning: invalid escape sequence '\\w'\n",
      "  class_words=re.sub(\"@[\\w]*\",\" \",class_words)\n"
     ]
    }
   ],
   "source": [
    "# Clean text\n",
    "def clean_text(text):\n",
    "    class_words=re.sub(\"http\\S+\",\" \",text)\n",
    "    class_words=re.sub(\"#[\\w]*\",\" \",class_words)\n",
    "    class_words=re.sub(\"@[\\w]*\",\" \",class_words)\n",
    "    class_words=re.sub(\"[^a-zA-Z0-9]\",\" \",class_words)\n",
    "    return class_words"
   ]
  },
  {
   "cell_type": "code",
   "execution_count": 6,
   "id": "062efbed-f6d5-4e67-ad1d-8ad3a80ce45f",
   "metadata": {},
   "outputs": [
    {
     "data": {
      "text/plain": [
       "'Owner of   lost his aunt due to shortage of oxygen  Condolences   When people with resources are affected t   '"
      ]
     },
     "execution_count": 6,
     "metadata": {},
     "output_type": "execute_result"
    }
   ],
   "source": [
    "clean_text(data['snapdeal_tweets'][20])"
   ]
  },
  {
   "cell_type": "code",
   "execution_count": 7,
   "id": "f39d7655-8cd3-4c21-8592-b37d6ca34df1",
   "metadata": {},
   "outputs": [],
   "source": [
    "clean_data= data.iloc[:,1].apply(clean_text)"
   ]
  },
  {
   "cell_type": "code",
   "execution_count": 8,
   "id": "492beeef-420f-4f6a-82f1-4f620e49321e",
   "metadata": {},
   "outputs": [
    {
     "data": {
      "text/plain": [
       "0      Heartbroken to share that our colleague of 9 y...\n",
       "1      We have waived shipping charges on all product...\n",
       "2        Getting this checked with the concerned team...\n",
       "3        Hi  Please elaborate on what went wrong via ...\n",
       "4                 I am basavaraj kandri  Please help me \n",
       "                             ...                        \n",
       "187      Would never ever again order from SNAPDEAL m...\n",
       "188      It was actually planned to be delivered to  ...\n",
       "189    RT    Complete the Snapdeal tagline in the com...\n",
       "190    RT    Snapdeal highlights its value e commerce...\n",
       "191    RT      Welcome to the hottest seed segment of...\n",
       "Name: snapdeal_tweets, Length: 192, dtype: object"
      ]
     },
     "execution_count": 8,
     "metadata": {},
     "output_type": "execute_result"
    }
   ],
   "source": [
    "clean_data"
   ]
  },
  {
   "cell_type": "code",
   "execution_count": 11,
   "id": "5d4fa229-7c04-45a1-b6aa-c2fcd6e326fd",
   "metadata": {},
   "outputs": [],
   "source": [
    "clean_data=pd.DataFrame(clean_data)"
   ]
  },
  {
   "cell_type": "code",
   "execution_count": 12,
   "id": "79852351-35ee-4ad4-a45d-45881355561d",
   "metadata": {},
   "outputs": [],
   "source": [
    "# Get subjectivity and polarity\n",
    "def get_sub(text):\n",
    "    return TextBlob(text).sentiment.subjectivity\n",
    "def get_pol(text):\n",
    "    return TextBlob(text).sentiment.polarity"
   ]
  },
  {
   "cell_type": "code",
   "execution_count": 13,
   "id": "2f982f20-c240-4957-815f-37cd668c38a2",
   "metadata": {},
   "outputs": [],
   "source": [
    "clean_data['Subjectivity']= clean_data.iloc[:,0].apply(get_sub)"
   ]
  },
  {
   "cell_type": "code",
   "execution_count": 14,
   "id": "2a3513a1-13ab-4884-b0f5-7fac18876b3f",
   "metadata": {},
   "outputs": [
    {
     "data": {
      "text/html": [
       "<div>\n",
       "<style scoped>\n",
       "    .dataframe tbody tr th:only-of-type {\n",
       "        vertical-align: middle;\n",
       "    }\n",
       "\n",
       "    .dataframe tbody tr th {\n",
       "        vertical-align: top;\n",
       "    }\n",
       "\n",
       "    .dataframe thead th {\n",
       "        text-align: right;\n",
       "    }\n",
       "</style>\n",
       "<table border=\"1\" class=\"dataframe\">\n",
       "  <thead>\n",
       "    <tr style=\"text-align: right;\">\n",
       "      <th></th>\n",
       "      <th>snapdeal_tweets</th>\n",
       "      <th>Subjectivity</th>\n",
       "    </tr>\n",
       "  </thead>\n",
       "  <tbody>\n",
       "    <tr>\n",
       "      <th>0</th>\n",
       "      <td>Heartbroken to share that our colleague of 9 y...</td>\n",
       "      <td>0.225000</td>\n",
       "    </tr>\n",
       "    <tr>\n",
       "      <th>1</th>\n",
       "      <td>We have waived shipping charges on all product...</td>\n",
       "      <td>0.000000</td>\n",
       "    </tr>\n",
       "    <tr>\n",
       "      <th>2</th>\n",
       "      <td>Getting this checked with the concerned team...</td>\n",
       "      <td>0.200000</td>\n",
       "    </tr>\n",
       "    <tr>\n",
       "      <th>3</th>\n",
       "      <td>Hi  Please elaborate on what went wrong via ...</td>\n",
       "      <td>0.758333</td>\n",
       "    </tr>\n",
       "    <tr>\n",
       "      <th>4</th>\n",
       "      <td>I am basavaraj kandri  Please help me</td>\n",
       "      <td>0.000000</td>\n",
       "    </tr>\n",
       "    <tr>\n",
       "      <th>...</th>\n",
       "      <td>...</td>\n",
       "      <td>...</td>\n",
       "    </tr>\n",
       "    <tr>\n",
       "      <th>187</th>\n",
       "      <td>Would never ever again order from SNAPDEAL m...</td>\n",
       "      <td>0.491667</td>\n",
       "    </tr>\n",
       "    <tr>\n",
       "      <th>188</th>\n",
       "      <td>It was actually planned to be delivered to  ...</td>\n",
       "      <td>0.100000</td>\n",
       "    </tr>\n",
       "    <tr>\n",
       "      <th>189</th>\n",
       "      <td>RT    Complete the Snapdeal tagline in the com...</td>\n",
       "      <td>0.566667</td>\n",
       "    </tr>\n",
       "    <tr>\n",
       "      <th>190</th>\n",
       "      <td>RT    Snapdeal highlights its value e commerce...</td>\n",
       "      <td>0.454545</td>\n",
       "    </tr>\n",
       "    <tr>\n",
       "      <th>191</th>\n",
       "      <td>RT      Welcome to the hottest seed segment of...</td>\n",
       "      <td>0.650000</td>\n",
       "    </tr>\n",
       "  </tbody>\n",
       "</table>\n",
       "<p>192 rows × 2 columns</p>\n",
       "</div>"
      ],
      "text/plain": [
       "                                       snapdeal_tweets  Subjectivity\n",
       "0    Heartbroken to share that our colleague of 9 y...      0.225000\n",
       "1    We have waived shipping charges on all product...      0.000000\n",
       "2      Getting this checked with the concerned team...      0.200000\n",
       "3      Hi  Please elaborate on what went wrong via ...      0.758333\n",
       "4               I am basavaraj kandri  Please help me       0.000000\n",
       "..                                                 ...           ...\n",
       "187    Would never ever again order from SNAPDEAL m...      0.491667\n",
       "188    It was actually planned to be delivered to  ...      0.100000\n",
       "189  RT    Complete the Snapdeal tagline in the com...      0.566667\n",
       "190  RT    Snapdeal highlights its value e commerce...      0.454545\n",
       "191  RT      Welcome to the hottest seed segment of...      0.650000\n",
       "\n",
       "[192 rows x 2 columns]"
      ]
     },
     "execution_count": 14,
     "metadata": {},
     "output_type": "execute_result"
    }
   ],
   "source": [
    "clean_data"
   ]
  },
  {
   "cell_type": "code",
   "execution_count": 15,
   "id": "f263616c-3f24-4b8b-a58e-b62893b72bb6",
   "metadata": {},
   "outputs": [
    {
     "data": {
      "text/plain": [
       "0    Heartbroken to share that our colleague of 9 y...\n",
       "1    We have waived shipping charges on all product...\n",
       "2      Getting this checked with the concerned team...\n",
       "3      Hi  Please elaborate on what went wrong via ...\n",
       "4               I am basavaraj kandri  Please help me \n",
       "Name: snapdeal_tweets, dtype: object"
      ]
     },
     "execution_count": 15,
     "metadata": {},
     "output_type": "execute_result"
    }
   ],
   "source": [
    "clean_data['snapdeal_tweets'].head()"
   ]
  },
  {
   "cell_type": "code",
   "execution_count": 16,
   "id": "bef09916-7372-4252-9cfd-cc7a47ffe10c",
   "metadata": {},
   "outputs": [],
   "source": [
    "clean_data['Polarity']= clean_data.iloc[:,0].apply(get_pol)"
   ]
  },
  {
   "cell_type": "code",
   "execution_count": 17,
   "id": "bf00dbb8-e985-4359-a518-fc5a0fd1fd45",
   "metadata": {},
   "outputs": [
    {
     "data": {
      "text/html": [
       "<div>\n",
       "<style scoped>\n",
       "    .dataframe tbody tr th:only-of-type {\n",
       "        vertical-align: middle;\n",
       "    }\n",
       "\n",
       "    .dataframe tbody tr th {\n",
       "        vertical-align: top;\n",
       "    }\n",
       "\n",
       "    .dataframe thead th {\n",
       "        text-align: right;\n",
       "    }\n",
       "</style>\n",
       "<table border=\"1\" class=\"dataframe\">\n",
       "  <thead>\n",
       "    <tr style=\"text-align: right;\">\n",
       "      <th></th>\n",
       "      <th>snapdeal_tweets</th>\n",
       "      <th>Subjectivity</th>\n",
       "      <th>Polarity</th>\n",
       "    </tr>\n",
       "  </thead>\n",
       "  <tbody>\n",
       "    <tr>\n",
       "      <th>0</th>\n",
       "      <td>Heartbroken to share that our colleague of 9 y...</td>\n",
       "      <td>0.225000</td>\n",
       "      <td>-0.041667</td>\n",
       "    </tr>\n",
       "    <tr>\n",
       "      <th>1</th>\n",
       "      <td>We have waived shipping charges on all product...</td>\n",
       "      <td>0.000000</td>\n",
       "      <td>0.000000</td>\n",
       "    </tr>\n",
       "    <tr>\n",
       "      <th>2</th>\n",
       "      <td>Getting this checked with the concerned team...</td>\n",
       "      <td>0.200000</td>\n",
       "      <td>0.200000</td>\n",
       "    </tr>\n",
       "    <tr>\n",
       "      <th>3</th>\n",
       "      <td>Hi  Please elaborate on what went wrong via ...</td>\n",
       "      <td>0.758333</td>\n",
       "      <td>0.000000</td>\n",
       "    </tr>\n",
       "    <tr>\n",
       "      <th>4</th>\n",
       "      <td>I am basavaraj kandri  Please help me</td>\n",
       "      <td>0.000000</td>\n",
       "      <td>0.000000</td>\n",
       "    </tr>\n",
       "    <tr>\n",
       "      <th>...</th>\n",
       "      <td>...</td>\n",
       "      <td>...</td>\n",
       "      <td>...</td>\n",
       "    </tr>\n",
       "    <tr>\n",
       "      <th>187</th>\n",
       "      <td>Would never ever again order from SNAPDEAL m...</td>\n",
       "      <td>0.491667</td>\n",
       "      <td>0.300000</td>\n",
       "    </tr>\n",
       "    <tr>\n",
       "      <th>188</th>\n",
       "      <td>It was actually planned to be delivered to  ...</td>\n",
       "      <td>0.100000</td>\n",
       "      <td>0.000000</td>\n",
       "    </tr>\n",
       "    <tr>\n",
       "      <th>189</th>\n",
       "      <td>RT    Complete the Snapdeal tagline in the com...</td>\n",
       "      <td>0.566667</td>\n",
       "      <td>0.233333</td>\n",
       "    </tr>\n",
       "    <tr>\n",
       "      <th>190</th>\n",
       "      <td>RT    Snapdeal highlights its value e commerce...</td>\n",
       "      <td>0.454545</td>\n",
       "      <td>0.136364</td>\n",
       "    </tr>\n",
       "    <tr>\n",
       "      <th>191</th>\n",
       "      <td>RT      Welcome to the hottest seed segment of...</td>\n",
       "      <td>0.650000</td>\n",
       "      <td>0.300000</td>\n",
       "    </tr>\n",
       "  </tbody>\n",
       "</table>\n",
       "<p>192 rows × 3 columns</p>\n",
       "</div>"
      ],
      "text/plain": [
       "                                       snapdeal_tweets  Subjectivity  Polarity\n",
       "0    Heartbroken to share that our colleague of 9 y...      0.225000 -0.041667\n",
       "1    We have waived shipping charges on all product...      0.000000  0.000000\n",
       "2      Getting this checked with the concerned team...      0.200000  0.200000\n",
       "3      Hi  Please elaborate on what went wrong via ...      0.758333  0.000000\n",
       "4               I am basavaraj kandri  Please help me       0.000000  0.000000\n",
       "..                                                 ...           ...       ...\n",
       "187    Would never ever again order from SNAPDEAL m...      0.491667  0.300000\n",
       "188    It was actually planned to be delivered to  ...      0.100000  0.000000\n",
       "189  RT    Complete the Snapdeal tagline in the com...      0.566667  0.233333\n",
       "190  RT    Snapdeal highlights its value e commerce...      0.454545  0.136364\n",
       "191  RT      Welcome to the hottest seed segment of...      0.650000  0.300000\n",
       "\n",
       "[192 rows x 3 columns]"
      ]
     },
     "execution_count": 17,
     "metadata": {},
     "output_type": "execute_result"
    }
   ],
   "source": [
    "clean_data"
   ]
  },
  {
   "cell_type": "code",
   "execution_count": 21,
   "id": "f339060a-685f-4a9d-a9cf-253bea410979",
   "metadata": {},
   "outputs": [],
   "source": [
    "def sentiment(polarity):\n",
    "    if polarity>0.3:\n",
    "        return 'Positive'\n",
    "    elif polarity<-0.3:\n",
    "        return 'Negative'\n",
    "    else:\n",
    "        return 'Neutral'"
   ]
  },
  {
   "cell_type": "code",
   "execution_count": 22,
   "id": "4480ba79-3f79-4338-a556-279d2859f8cb",
   "metadata": {},
   "outputs": [],
   "source": [
    "clean_data['Sentiment']= clean_data['Polarity'].apply(sentiment)"
   ]
  },
  {
   "cell_type": "code",
   "execution_count": 23,
   "id": "baced729-5329-4781-8f54-aa1602c0f2eb",
   "metadata": {},
   "outputs": [
    {
     "data": {
      "text/html": [
       "<div>\n",
       "<style scoped>\n",
       "    .dataframe tbody tr th:only-of-type {\n",
       "        vertical-align: middle;\n",
       "    }\n",
       "\n",
       "    .dataframe tbody tr th {\n",
       "        vertical-align: top;\n",
       "    }\n",
       "\n",
       "    .dataframe thead th {\n",
       "        text-align: right;\n",
       "    }\n",
       "</style>\n",
       "<table border=\"1\" class=\"dataframe\">\n",
       "  <thead>\n",
       "    <tr style=\"text-align: right;\">\n",
       "      <th></th>\n",
       "      <th>snapdeal_tweets</th>\n",
       "      <th>Subjectivity</th>\n",
       "      <th>Polarity</th>\n",
       "      <th>Sentiment</th>\n",
       "    </tr>\n",
       "  </thead>\n",
       "  <tbody>\n",
       "    <tr>\n",
       "      <th>0</th>\n",
       "      <td>Heartbroken to share that our colleague of 9 y...</td>\n",
       "      <td>0.225000</td>\n",
       "      <td>-0.041667</td>\n",
       "      <td>Neutral</td>\n",
       "    </tr>\n",
       "    <tr>\n",
       "      <th>1</th>\n",
       "      <td>We have waived shipping charges on all product...</td>\n",
       "      <td>0.000000</td>\n",
       "      <td>0.000000</td>\n",
       "      <td>Neutral</td>\n",
       "    </tr>\n",
       "    <tr>\n",
       "      <th>2</th>\n",
       "      <td>Getting this checked with the concerned team...</td>\n",
       "      <td>0.200000</td>\n",
       "      <td>0.200000</td>\n",
       "      <td>Neutral</td>\n",
       "    </tr>\n",
       "    <tr>\n",
       "      <th>3</th>\n",
       "      <td>Hi  Please elaborate on what went wrong via ...</td>\n",
       "      <td>0.758333</td>\n",
       "      <td>0.000000</td>\n",
       "      <td>Neutral</td>\n",
       "    </tr>\n",
       "    <tr>\n",
       "      <th>4</th>\n",
       "      <td>I am basavaraj kandri  Please help me</td>\n",
       "      <td>0.000000</td>\n",
       "      <td>0.000000</td>\n",
       "      <td>Neutral</td>\n",
       "    </tr>\n",
       "    <tr>\n",
       "      <th>...</th>\n",
       "      <td>...</td>\n",
       "      <td>...</td>\n",
       "      <td>...</td>\n",
       "      <td>...</td>\n",
       "    </tr>\n",
       "    <tr>\n",
       "      <th>187</th>\n",
       "      <td>Would never ever again order from SNAPDEAL m...</td>\n",
       "      <td>0.491667</td>\n",
       "      <td>0.300000</td>\n",
       "      <td>Neutral</td>\n",
       "    </tr>\n",
       "    <tr>\n",
       "      <th>188</th>\n",
       "      <td>It was actually planned to be delivered to  ...</td>\n",
       "      <td>0.100000</td>\n",
       "      <td>0.000000</td>\n",
       "      <td>Neutral</td>\n",
       "    </tr>\n",
       "    <tr>\n",
       "      <th>189</th>\n",
       "      <td>RT    Complete the Snapdeal tagline in the com...</td>\n",
       "      <td>0.566667</td>\n",
       "      <td>0.233333</td>\n",
       "      <td>Neutral</td>\n",
       "    </tr>\n",
       "    <tr>\n",
       "      <th>190</th>\n",
       "      <td>RT    Snapdeal highlights its value e commerce...</td>\n",
       "      <td>0.454545</td>\n",
       "      <td>0.136364</td>\n",
       "      <td>Neutral</td>\n",
       "    </tr>\n",
       "    <tr>\n",
       "      <th>191</th>\n",
       "      <td>RT      Welcome to the hottest seed segment of...</td>\n",
       "      <td>0.650000</td>\n",
       "      <td>0.300000</td>\n",
       "      <td>Positive</td>\n",
       "    </tr>\n",
       "  </tbody>\n",
       "</table>\n",
       "<p>192 rows × 4 columns</p>\n",
       "</div>"
      ],
      "text/plain": [
       "                                       snapdeal_tweets  Subjectivity  \\\n",
       "0    Heartbroken to share that our colleague of 9 y...      0.225000   \n",
       "1    We have waived shipping charges on all product...      0.000000   \n",
       "2      Getting this checked with the concerned team...      0.200000   \n",
       "3      Hi  Please elaborate on what went wrong via ...      0.758333   \n",
       "4               I am basavaraj kandri  Please help me       0.000000   \n",
       "..                                                 ...           ...   \n",
       "187    Would never ever again order from SNAPDEAL m...      0.491667   \n",
       "188    It was actually planned to be delivered to  ...      0.100000   \n",
       "189  RT    Complete the Snapdeal tagline in the com...      0.566667   \n",
       "190  RT    Snapdeal highlights its value e commerce...      0.454545   \n",
       "191  RT      Welcome to the hottest seed segment of...      0.650000   \n",
       "\n",
       "     Polarity Sentiment  \n",
       "0   -0.041667   Neutral  \n",
       "1    0.000000   Neutral  \n",
       "2    0.200000   Neutral  \n",
       "3    0.000000   Neutral  \n",
       "4    0.000000   Neutral  \n",
       "..        ...       ...  \n",
       "187  0.300000   Neutral  \n",
       "188  0.000000   Neutral  \n",
       "189  0.233333   Neutral  \n",
       "190  0.136364   Neutral  \n",
       "191  0.300000  Positive  \n",
       "\n",
       "[192 rows x 4 columns]"
      ]
     },
     "execution_count": 23,
     "metadata": {},
     "output_type": "execute_result"
    }
   ],
   "source": [
    "clean_data"
   ]
  },
  {
   "cell_type": "code",
   "execution_count": 24,
   "id": "038313af-da51-4783-96b2-83f14440481c",
   "metadata": {},
   "outputs": [
    {
     "data": {
      "text/plain": [
       "Sentiment\n",
       "Neutral     157\n",
       "Positive     20\n",
       "Negative     15\n",
       "Name: count, dtype: int64"
      ]
     },
     "execution_count": 24,
     "metadata": {},
     "output_type": "execute_result"
    }
   ],
   "source": [
    "clean_data['Sentiment'].value_counts()"
   ]
  },
  {
   "cell_type": "code",
   "execution_count": 25,
   "id": "ee39286f-4e26-47b4-945b-19e68dfee9f4",
   "metadata": {},
   "outputs": [
    {
     "data": {
      "text/plain": [
       "9        Snapdeal is a fake companyThis company does ...\n",
       "10       Hi Ashi  There was nothing wrong with the se...\n",
       "21       very bad quality oximeter in your website an...\n",
       "31       Really sorry for the unpleasant experience  ...\n",
       "57       one of the worst service ever by snapdeal  T...\n",
       "75       Hi  Very sorry for the inconvenience caused ...\n",
       "76       Worst product selling done by SD My contact9...\n",
       "79       Isiliye desh ki g  padi hai  your priorities...\n",
       "117      Hi  Really sorry for the unpleasant experien...\n",
       "127          Fraud app please do not buy anything fro...\n",
       "139    Fake IDs are usually punishable under Section ...\n",
       "150    I have listed  Delrin Thin Triangle Guitar Pic...\n",
       "164      THE WORST PLATFORM I HAVE EVER WORKED WITH I...\n",
       "180      very bad service seriously why snapdeal reci...\n",
       "181      We would like to inform you that we have bee...\n",
       "Name: snapdeal_tweets, dtype: object"
      ]
     },
     "execution_count": 25,
     "metadata": {},
     "output_type": "execute_result"
    }
   ],
   "source": [
    "clean_data['snapdeal_tweets'][clean_data['Sentiment']=='Negative']"
   ]
  },
  {
   "cell_type": "code",
   "execution_count": null,
   "id": "3fb7fc90-70ff-4567-94bc-0d9cb4f74fb2",
   "metadata": {},
   "outputs": [],
   "source": []
  }
 ],
 "metadata": {
  "kernelspec": {
   "display_name": "Python 3 (ipykernel)",
   "language": "python",
   "name": "python3"
  },
  "language_info": {
   "codemirror_mode": {
    "name": "ipython",
    "version": 3
   },
   "file_extension": ".py",
   "mimetype": "text/x-python",
   "name": "python",
   "nbconvert_exporter": "python",
   "pygments_lexer": "ipython3",
   "version": "3.12.7"
  }
 },
 "nbformat": 4,
 "nbformat_minor": 5
}
